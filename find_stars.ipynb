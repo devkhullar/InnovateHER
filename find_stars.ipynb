{
 "cells": [
  {
   "cell_type": "markdown",
   "id": "913968e3",
   "metadata": {},
   "source": [
    "# Finding Stars in galaxies"
   ]
  },
  {
   "cell_type": "code",
   "execution_count": null,
   "id": "60d61937",
   "metadata": {},
   "outputs": [],
   "source": [
    "from starfind import (\n",
    "    show_galaxy,\n",
    "    find_stars,\n",
    "    show_galaxy,\n",
    "    show_zoomed_image,\n",
    "    find_stars_in_zoomed_image\n",
    ")"
   ]
  },
  {
   "cell_type": "code",
   "execution_count": null,
   "id": "adca7efa",
   "metadata": {},
   "outputs": [],
   "source": [
    "show_galaxy()"
   ]
  },
  {
   "cell_type": "markdown",
   "id": "b74e20ef",
   "metadata": {},
   "source": [
    "You must have noticed that we cannot zoom in or out in the image above. Even if I find all the stars, clusters of stars, **supernova remnants** (clouds of dust and gas that remain after a massive explosion caused when a star dies), I will not know if my code selected all the astronomical objects properly. Let's try that out once real quick."
   ]
  },
  {
   "cell_type": "markdown",
   "id": "a326b3d8",
   "metadata": {},
   "source": [
    "To program your code to select the stars, you need to tell the code a few properties of the stars in the image and the code will use those properties to find those stars.\n",
    "\n",
    "We are going to make use of the properties quality and sensitivity:\n",
    "\n",
    "**Quality**: It measures how much light from a star spreads out because of the telescope. \n",
    "\n",
    "**Sensitivity**: It measures the brightness of the stars image that the code will use to select the best stars.\n",
    "\n",
    "Options for size and sensitivity:\n",
    "- low \n",
    "- moderate\n",
    "- high\n",
    "\n",
    "We are going to use these options for the quality and sensitity properties to detect stars in the M66 galaxy :)"
   ]
  },
  {
   "cell_type": "code",
   "execution_count": null,
   "id": "b0722e43",
   "metadata": {},
   "outputs": [],
   "source": [
    "find_stars(\n",
    "    size='low',\n",
    "    sensitivity='moderate',\n",
    "    vmin=0,\n",
    "    vmax=0.2\n",
    ")"
   ]
  },
  {
   "cell_type": "markdown",
   "id": "21f85379",
   "metadata": {},
   "source": [
    "Aaah! That did not do a very good job :( Let's find stars in a smaller image of the above galaxy and see how our code works!"
   ]
  },
  {
   "cell_type": "code",
   "execution_count": null,
   "id": "25d85e98",
   "metadata": {},
   "outputs": [],
   "source": [
    "show_zoomed_image()    # this will show a zoomed-in image of the galaxy"
   ]
  },
  {
   "cell_type": "code",
   "execution_count": null,
   "id": "bd552827",
   "metadata": {},
   "outputs": [],
   "source": [
    "find_stars_in_zoomed_image(\n",
    "    size='high',\n",
    "    sensitivity='moderate',\n",
    "    plot=True\n",
    ")"
   ]
  },
  {
   "cell_type": "markdown",
   "id": "34395b70",
   "metadata": {},
   "source": [
    "Once we are satisfied with how the code is identifying the sources in the image above, we are going to use the same values to find the stars in the whole galaxy."
   ]
  },
  {
   "cell_type": "code",
   "execution_count": null,
   "id": "4673ec1b",
   "metadata": {},
   "outputs": [],
   "source": [
    "find_stars(\n",
    "    size='high',\n",
    "    sensitivity='moderate',\n",
    "    plot=False         # do not plot the image, it will take a long time\n",
    ")"
   ]
  }
 ],
 "metadata": {
  "kernelspec": {
   "display_name": "stenv",
   "language": "python",
   "name": "python3"
  },
  "language_info": {
   "codemirror_mode": {
    "name": "ipython",
    "version": 3
   },
   "file_extension": ".py",
   "mimetype": "text/x-python",
   "name": "python",
   "nbconvert_exporter": "python",
   "pygments_lexer": "ipython3",
   "version": "3.12.10"
  }
 },
 "nbformat": 4,
 "nbformat_minor": 5
}
