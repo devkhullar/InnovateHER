{
 "cells": [
  {
   "cell_type": "markdown",
   "id": "913968e3",
   "metadata": {},
   "source": [
    "# Finding Stars in galaxies"
   ]
  },
  {
   "cell_type": "code",
   "execution_count": null,
   "id": "60d61937",
   "metadata": {},
   "outputs": [],
   "source": [
    "from starfind import (\n",
    "    show_galaxy,\n",
    "    find_stars,\n",
    "    show_galaxy,\n",
    "    show_zoomed_image,\n",
    "    find_stars_in_zoomed_image\n",
    ")"
   ]
  },
  {
   "cell_type": "code",
   "execution_count": null,
   "id": "adca7efa",
   "metadata": {},
   "outputs": [],
   "source": [
    "show_galaxy()"
   ]
  },
  {
   "cell_type": "markdown",
   "id": "b74e20ef",
   "metadata": {},
   "source": [
    "You must have noticed that we cannot zoom in or out in the image above. Even if I find all the stars, clusters of stars, **supernova remnants** (clouds of dust and gas that remain after a massive explosion caused when a star dies), I will not know if my code selected all the astronomical objects properly. Let's try that out once real quick."
   ]
  },
  {
   "cell_type": "code",
   "execution_count": null,
   "id": "641d5bb8",
   "metadata": {},
   "outputs": [],
   "source": [
    "import matplotlib.pyplot as plt\n",
    "from astropy.io import fits\n",
    "M66_image_path = '/Users/undergradstudent/Research/XRB-Analysis/Galaxies/M66/HST/M66_mosaic_uvis_f555w_drc_sci.fits'\n",
    "data = fits.getdata(M66_image_path)\n",
    "\n",
    "plt.imshow(data, origin='lower', vmin=0, vmax=0.2, cmap='Greys')"
   ]
  },
  {
   "cell_type": "code",
   "execution_count": null,
   "id": "b0722e43",
   "metadata": {},
   "outputs": [],
   "source": [
    "find_stars(\n",
    "    size='moderate',\n",
    "    sensitivity='moderate',\n",
    "    vmin=0,\n",
    "    vmax=0.2\n",
    ")"
   ]
  },
  {
   "cell_type": "markdown",
   "id": "21f85379",
   "metadata": {},
   "source": [
    "Instead, let's use a bottoms-up strategy. Let's find stars in a smaller image of the above galaxy and see how our code works!"
   ]
  },
  {
   "cell_type": "code",
   "execution_count": null,
   "id": "25d85e98",
   "metadata": {},
   "outputs": [],
   "source": [
    "show_zoomed_image()    # this will show a zoomed-in image of the galaxy"
   ]
  },
  {
   "cell_type": "code",
   "execution_count": null,
   "id": "bd552827",
   "metadata": {},
   "outputs": [],
   "source": [
    "find_stars_in_zoomed_image(\n",
    "    size='high',\n",
    "    sensitivity='moderately low',\n",
    "    plot=True\n",
    ")"
   ]
  },
  {
   "cell_type": "markdown",
   "id": "34395b70",
   "metadata": {},
   "source": [
    "Once we are satisfied with how the code is identifying the sources in the image above, we are going to use the same values to find the stars in the whole galaxy."
   ]
  },
  {
   "cell_type": "code",
   "execution_count": null,
   "id": "4673ec1b",
   "metadata": {},
   "outputs": [],
   "source": [
    "find_stars(\n",
    "    size='high',\n",
    "    sensitivity='moderately low',\n",
    "    plot=False         # do not plot the image, it will take a long time\n",
    ")"
   ]
  }
 ],
 "metadata": {
  "kernelspec": {
   "display_name": "stenv",
   "language": "python",
   "name": "python3"
  },
  "language_info": {
   "codemirror_mode": {
    "name": "ipython",
    "version": 3
   },
   "file_extension": ".py",
   "mimetype": "text/x-python",
   "name": "python",
   "nbconvert_exporter": "python",
   "pygments_lexer": "ipython3",
   "version": "3.12.10"
  }
 },
 "nbformat": 4,
 "nbformat_minor": 5
}
